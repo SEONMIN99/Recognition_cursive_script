{
 "cells": [
  {
   "cell_type": "code",
   "execution_count": 1,
   "metadata": {},
   "outputs": [],
   "source": [
    "import shutil, random, os\n",
    "\n",
    "cwd = os.path.dirname(os.path.abspath(\"__file__\"))\n",
    "os.chdir(cwd)"
   ]
  },
  {
   "cell_type": "code",
   "execution_count": 2,
   "metadata": {},
   "outputs": [
    {
     "name": "stdout",
     "output_type": "stream",
     "text": [
      "C:\\Users\\SeonminKim\\Desktop\\Recognition_cursive_script\n"
     ]
    }
   ],
   "source": [
    "print(cwd)"
   ]
  },
  {
   "cell_type": "code",
   "execution_count": 3,
   "metadata": {},
   "outputs": [
    {
     "name": "stdout",
     "output_type": "stream",
     "text": [
      "['Ae_salang', 'Ae_seulpeul', 'Bal_pil', 'Ban_dorikil', 'Buk_buknyeok', 'Bu_ddeul', 'Bu_maeul', 'Byeol_nanul', 'Byeon_bunbyeolhal']\n"
     ]
    }
   ],
   "source": [
    "classes = os.listdir(cwd + \"/sampleData1\")\n",
    "print(classes)"
   ]
  },
  {
   "cell_type": "code",
   "execution_count": 4,
   "metadata": {},
   "outputs": [
    {
     "ename": "FileNotFoundError",
     "evalue": "[WinError 3] 지정된 경로를 찾을 수 없습니다: './test_ver/test_Training/Ae_salang'",
     "output_type": "error",
     "traceback": [
      "\u001b[1;31m---------------------------------------------------------------------------\u001b[0m",
      "\u001b[1;31mFileNotFoundError\u001b[0m                         Traceback (most recent call last)",
      "\u001b[1;32m<ipython-input-4-5b4a0645119e>\u001b[0m in \u001b[0;36m<module>\u001b[1;34m\u001b[0m\n\u001b[0;32m      7\u001b[0m     \u001b[0mdst_c1\u001b[0m \u001b[1;33m=\u001b[0m \u001b[0mdst_dir1\u001b[0m \u001b[1;33m+\u001b[0m \u001b[1;34m\"/\"\u001b[0m \u001b[1;33m+\u001b[0m \u001b[0mc\u001b[0m\u001b[1;33m\u001b[0m\u001b[1;33m\u001b[0m\u001b[0m\n\u001b[0;32m      8\u001b[0m     \u001b[1;32mif\u001b[0m \u001b[1;32mnot\u001b[0m \u001b[0mos\u001b[0m\u001b[1;33m.\u001b[0m\u001b[0mpath\u001b[0m\u001b[1;33m.\u001b[0m\u001b[0mexists\u001b[0m\u001b[1;33m(\u001b[0m\u001b[0mdst_c1\u001b[0m\u001b[1;33m)\u001b[0m\u001b[1;33m:\u001b[0m\u001b[1;33m\u001b[0m\u001b[1;33m\u001b[0m\u001b[0m\n\u001b[1;32m----> 9\u001b[1;33m         \u001b[0mos\u001b[0m\u001b[1;33m.\u001b[0m\u001b[0mmkdir\u001b[0m\u001b[1;33m(\u001b[0m\u001b[0mdst_c1\u001b[0m\u001b[1;33m)\u001b[0m\u001b[1;33m\u001b[0m\u001b[1;33m\u001b[0m\u001b[0m\n\u001b[0m\u001b[0;32m     10\u001b[0m \u001b[1;33m\u001b[0m\u001b[0m\n\u001b[0;32m     11\u001b[0m     \u001b[0mdst_c2\u001b[0m \u001b[1;33m=\u001b[0m \u001b[0mdst_dir2\u001b[0m \u001b[1;33m+\u001b[0m \u001b[1;34m\"/\"\u001b[0m \u001b[1;33m+\u001b[0m \u001b[0mc\u001b[0m\u001b[1;33m\u001b[0m\u001b[1;33m\u001b[0m\u001b[0m\n",
      "\u001b[1;31mFileNotFoundError\u001b[0m: [WinError 3] 지정된 경로를 찾을 수 없습니다: './test_ver/test_Training/Ae_salang'"
     ]
    }
   ],
   "source": [
    "dst_dir1 = './test_ver/test_Training'\n",
    "dst_dir2 = './test_ver/test_Testing'\n",
    "\n",
    "for c in classes:\n",
    "    lists = []\n",
    "\n",
    "    dst_c1 = dst_dir1 + \"/\" + c\n",
    "    if not os.path.exists(dst_c1):\n",
    "        os.mkdir(dst_c1)\n",
    "        \n",
    "    dst_c2 = dst_dir2 + \"/\" + c\n",
    "    if not os.path.exists(dst_c2):\n",
    "        os.mkdir(dst_c2)\n",
    "\n",
    "    os.chdir(c)\n",
    "    num_images = len([name for name in os.listdir('.') if os.path.isfile(name)])\n",
    "    num_train = int(num_images * 0.8)\n",
    "    os.chdir('..')\n",
    "\n",
    "    count = 1\n",
    "    while count <= num_train:\n",
    "        num = random.randrange(1, num_images+1)\n",
    "        if num not in lists:\n",
    "            lists.append(num)\n",
    "            src1 = './{}/{}_{}.jpg'.format(c, c, num)\n",
    "            shutil.copy(src1, dst_c1)\n",
    "            count += 1        \n",
    "\n",
    "    for i in range(1, num_images+1):\n",
    "        if i not in lists:\n",
    "            src2 = './{}/{}_{}.jpg'.format(c, c, i)           \n",
    "            shutil.copy(src2, dst_c2)  "
   ]
  },
  {
   "cell_type": "code",
   "execution_count": null,
   "metadata": {},
   "outputs": [],
   "source": []
  }
 ],
 "metadata": {
  "kernelspec": {
   "display_name": "Python 3",
   "language": "python",
   "name": "python3"
  },
  "language_info": {
   "codemirror_mode": {
    "name": "ipython",
    "version": 3
   },
   "file_extension": ".py",
   "mimetype": "text/x-python",
   "name": "python",
   "nbconvert_exporter": "python",
   "pygments_lexer": "ipython3",
   "version": "3.8.5"
  }
 },
 "nbformat": 4,
 "nbformat_minor": 4
}
