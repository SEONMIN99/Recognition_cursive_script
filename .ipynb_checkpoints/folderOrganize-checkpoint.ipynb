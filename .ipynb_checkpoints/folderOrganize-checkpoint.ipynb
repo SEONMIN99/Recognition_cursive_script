{
 "cells": [
  {
   "cell_type": "code",
   "execution_count": 7,
   "metadata": {},
   "outputs": [],
   "source": [
    "import glob, os\n",
    "import urllib.request\n",
    "\n",
    "cwd = os.path.dirname(os.path.abspath(\"__file__\"))\n",
    "os.chdir(cwd)\n",
    "\n",
    "classes = os.listdir('./sampleData1/')\n",
    "\n",
    "# 보존했던 folder명 기입\n",
    "folders = glob.glob(\"./sampleData1/*\")\n",
    "\n",
    "# file명 변경\n",
    "q = 0\n",
    "for folder in folders:\n",
    "    z = 1\n",
    "    files = glob.glob('{}/*'.format(folder))\n",
    "    for file in files:\n",
    "        new_name = \"{0}/{1}_{2}.jpg\".format(folder, classes[q], z)\n",
    "        os.rename(file, new_name)\n",
    "        z += 1\n",
    "    q +=1"
   ]
  }
 ],
 "metadata": {
  "kernelspec": {
   "display_name": "Python 3",
   "language": "python",
   "name": "python3"
  },
  "language_info": {
   "codemirror_mode": {
    "name": "ipython",
    "version": 3
   },
   "file_extension": ".py",
   "mimetype": "text/x-python",
   "name": "python",
   "nbconvert_exporter": "python",
   "pygments_lexer": "ipython3",
   "version": "3.8.5"
  }
 },
 "nbformat": 4,
 "nbformat_minor": 4
}
