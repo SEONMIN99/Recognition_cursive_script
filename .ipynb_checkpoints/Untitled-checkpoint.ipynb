{
 "cells": [
  {
   "cell_type": "code",
   "execution_count": 201,
   "metadata": {},
   "outputs": [
    {
     "name": "stdout",
     "output_type": "stream",
     "text": [
      "C:\\Users\\SeonminKim\\Desktop\\cursive_script\n"
     ]
    }
   ],
   "source": [
    "import os\n",
    "\n",
    "cwd = os.path.dirname(os.path.abspath(\"__file__\"))\n",
    "os.chdir(cwd)\n",
    "print(cwd)"
   ]
  },
  {
   "cell_type": "code",
   "execution_count": 202,
   "metadata": {},
   "outputs": [
    {
     "name": "stdout",
     "output_type": "stream",
     "text": [
      "['Ae_salang', 'Ae_seulpeul']\n"
     ]
    }
   ],
   "source": [
    "classes = os.listdir('./sampleData/')\n",
    "print(classes)"
   ]
  },
  {
   "cell_type": "code",
   "execution_count": 203,
   "metadata": {},
   "outputs": [
    {
     "name": "stdout",
     "output_type": "stream",
     "text": [
      "Ae_salang\n",
      "C:\\Users\\SeonminKim\\Desktop\\cursive_script\\sampleData\n",
      "Ae_seulpeul\n",
      "C:\\Users\\SeonminKim\\Desktop\\cursive_script\\sampleData\n"
     ]
    }
   ],
   "source": [
    "for dir in classes:\n",
    "    print(dir)\n",
    "    cw = os.path.dirname(cwd+'\\sampleData/'+dir)\n",
    "    print(cw)"
   ]
  },
  {
   "cell_type": "code",
   "execution_count": 192,
   "metadata": {
    "scrolled": true
   },
   "outputs": [
    {
     "name": "stdout",
     "output_type": "stream",
     "text": [
      "classes: \n",
      "['Ae_salang', 'Ae_seulpeul', 'A_ai']\n",
      "perClass: \n",
      "Ae_salang\n"
     ]
    },
    {
     "ename": "ValueError",
     "evalue": "all the input array dimensions for the concatenation axis must match exactly, but along dimension 0, the array at index 0 has size 30 and the array at index 1 has size 15",
     "output_type": "error",
     "traceback": [
      "\u001b[1;31m---------------------------------------------------------------------------\u001b[0m",
      "\u001b[1;31mValueError\u001b[0m                                Traceback (most recent call last)",
      "\u001b[1;32m<ipython-input-192-62fb9c08cb69>\u001b[0m in \u001b[0;36m<module>\u001b[1;34m\u001b[0m\n\u001b[0;32m     33\u001b[0m \u001b[1;31m#         print(img.shape)\u001b[0m\u001b[1;33m\u001b[0m\u001b[1;33m\u001b[0m\u001b[1;33m\u001b[0m\u001b[0m\n\u001b[0;32m     34\u001b[0m \u001b[1;33m\u001b[0m\u001b[0m\n\u001b[1;32m---> 35\u001b[1;33m         \u001b[0mdataset\u001b[0m \u001b[1;33m=\u001b[0m \u001b[0mnp\u001b[0m\u001b[1;33m.\u001b[0m\u001b[0mappend\u001b[0m\u001b[1;33m(\u001b[0m\u001b[0mdataset\u001b[0m\u001b[1;33m,\u001b[0m \u001b[0mnp\u001b[0m\u001b[1;33m.\u001b[0m\u001b[0marray\u001b[0m\u001b[1;33m(\u001b[0m\u001b[0mimg\u001b[0m\u001b[1;33m)\u001b[0m\u001b[1;33m,\u001b[0m \u001b[0maxis\u001b[0m\u001b[1;33m=\u001b[0m\u001b[1;36m1\u001b[0m\u001b[1;33m)\u001b[0m\u001b[1;33m\u001b[0m\u001b[1;33m\u001b[0m\u001b[0m\n\u001b[0m\u001b[0;32m     36\u001b[0m \u001b[1;31m#         print(dataset.shape)\u001b[0m\u001b[1;33m\u001b[0m\u001b[1;33m\u001b[0m\u001b[1;33m\u001b[0m\u001b[0m\n\u001b[0;32m     37\u001b[0m         \u001b[0mtarget\u001b[0m\u001b[1;33m.\u001b[0m\u001b[0mappend\u001b[0m\u001b[1;33m(\u001b[0m\u001b[0mperClass\u001b[0m\u001b[1;33m)\u001b[0m\u001b[1;33m\u001b[0m\u001b[1;33m\u001b[0m\u001b[0m\n",
      "\u001b[1;32m<__array_function__ internals>\u001b[0m in \u001b[0;36mappend\u001b[1;34m(*args, **kwargs)\u001b[0m\n",
      "\u001b[1;32m~\\anaconda3\\lib\\site-packages\\numpy\\lib\\function_base.py\u001b[0m in \u001b[0;36mappend\u001b[1;34m(arr, values, axis)\u001b[0m\n\u001b[0;32m   4669\u001b[0m         \u001b[0mvalues\u001b[0m \u001b[1;33m=\u001b[0m \u001b[0mravel\u001b[0m\u001b[1;33m(\u001b[0m\u001b[0mvalues\u001b[0m\u001b[1;33m)\u001b[0m\u001b[1;33m\u001b[0m\u001b[1;33m\u001b[0m\u001b[0m\n\u001b[0;32m   4670\u001b[0m         \u001b[0maxis\u001b[0m \u001b[1;33m=\u001b[0m \u001b[0marr\u001b[0m\u001b[1;33m.\u001b[0m\u001b[0mndim\u001b[0m\u001b[1;33m-\u001b[0m\u001b[1;36m1\u001b[0m\u001b[1;33m\u001b[0m\u001b[1;33m\u001b[0m\u001b[0m\n\u001b[1;32m-> 4671\u001b[1;33m     \u001b[1;32mreturn\u001b[0m \u001b[0mconcatenate\u001b[0m\u001b[1;33m(\u001b[0m\u001b[1;33m(\u001b[0m\u001b[0marr\u001b[0m\u001b[1;33m,\u001b[0m \u001b[0mvalues\u001b[0m\u001b[1;33m)\u001b[0m\u001b[1;33m,\u001b[0m \u001b[0maxis\u001b[0m\u001b[1;33m=\u001b[0m\u001b[0maxis\u001b[0m\u001b[1;33m)\u001b[0m\u001b[1;33m\u001b[0m\u001b[1;33m\u001b[0m\u001b[0m\n\u001b[0m\u001b[0;32m   4672\u001b[0m \u001b[1;33m\u001b[0m\u001b[0m\n\u001b[0;32m   4673\u001b[0m \u001b[1;33m\u001b[0m\u001b[0m\n",
      "\u001b[1;32m<__array_function__ internals>\u001b[0m in \u001b[0;36mconcatenate\u001b[1;34m(*args, **kwargs)\u001b[0m\n",
      "\u001b[1;31mValueError\u001b[0m: all the input array dimensions for the concatenation axis must match exactly, but along dimension 0, the array at index 0 has size 30 and the array at index 1 has size 15"
     ]
    }
   ],
   "source": [
    "import cv2\n",
    "import numpy as np\n",
    "import matplotlib.pyplot as plt\n",
    "from glob import glob\n",
    "\n",
    "print(\"classes: \")\n",
    "classes = os.listdir('./sampleData/')\n",
    "print(classes)\n",
    "\n",
    "print(\"perClass: \")\n",
    "# dataset = []\n",
    "dataset = np.empty((30,30), int)\n",
    "target = []\n",
    "total = 0\n",
    "for perClass in classes:\n",
    "    print(perClass)\n",
    "    num = len(os.listdir('./sampleData/{0}'.format(perClass)))\n",
    "#     print(perClass)\n",
    "    total += num\n",
    "    datas = os.listdir('./sampleData/{0}'.format(perClass))\n",
    "#     print(len(datas))\n",
    "    for data in datas:\n",
    "        classImage = ('./sampleData/{0}/{1}'.format(perClass, data))\n",
    "        img = cv2.imread(classImage, cv2.IMREAD_REDUCED_GRAYSCALE_2)\n",
    "#         print(data)\n",
    "\n",
    "#         np.reshape(img, 900)\n",
    "\n",
    "#         print(img)\n",
    "#         print(classImage)\n",
    "#         dataset.append(img)\n",
    "#         np.array(img)    \n",
    "#         print(img.shape)\n",
    "        \n",
    "        dataset = np.append(dataset, np.array(img), axis=1)\n",
    "#         print(dataset.shape)\n",
    "        target.append(perClass)\n",
    "#         img = cv2.imread(classImage)\n",
    "#         plt.imshow(img)\n",
    "\n",
    "print(\"------------\")\n",
    "print(\"dataset and target\")\n",
    "# print(dataset)\n",
    "# print(target)\n",
    "print(total)\n",
    "# print(dataset.shape)\n",
    "# train_path = 'sampleData'\n",
    "# image_files = glob(train_path + '/*/*')\n",
    "\n",
    "print(\"---------------\")\n",
    "print(\"img.shape and img print\")\n",
    "img = cv2.imread('./sampleData/Ae_seulpeul/t_Ae_seulpeul_1.jpg', cv2.IMREAD_REDUCED_GRAYSCALE_2)\n",
    "print(img.shape)\n",
    "print(img)\n",
    "# print(dataset)\n",
    "print(type(dataset))\n",
    "print(dataset.shape)"
   ]
  },
  {
   "cell_type": "code",
   "execution_count": 233,
   "metadata": {},
   "outputs": [
    {
     "name": "stdout",
     "output_type": "stream",
     "text": [
      "classes(클래스 리스트): \n",
      "['Ae_salang', 'Ae_seulpeul']\n",
      "--------\n",
      "perClass(클래스 종류): \n",
      "Ae_salang\n",
      "데이터 경로\n",
      "Ae_seulpeul\n",
      "데이터 경로\n"
     ]
    }
   ],
   "source": [
    "#2\n",
    "from PIL import Image\n",
    "import cv2\n",
    "import numpy as np\n",
    "import matplotlib.pyplot as plt\n",
    "from glob import glob\n",
    "\n",
    "print(\"classes(클래스 리스트): \")\n",
    "classes = os.listdir('./sampleData/')\n",
    "print(classes)\n",
    "\n",
    "print(\"--------\")\n",
    "print(\"perClass(클래스 종류): \")\n",
    "\n",
    "dataset = []\n",
    "target = []\n",
    "total = 0\n",
    "\n",
    "for perClass in classes:\n",
    "    print(perClass)\n",
    "    num = len(os.listdir('./sampleData/{0}'.format(perClass)))\n",
    "#     print(perClass)\n",
    "    \n",
    "    total += num # 전체 데이터 개수\n",
    "    datas = os.listdir('./sampleData/{0}'.format(perClass))\n",
    "#     print(len(datas))\n",
    "    print(\"데이터 경로\")\n",
    "    for data in datas:\n",
    "        classImage = ('./sampleData/{0}/{1}'.format(perClass, data))\n",
    "        \n",
    "#         print(classImage) #데이터 경로\n",
    "        img = Image.open(classImage) \n",
    "        img = img.convert(\"L\")\n",
    "        data = np.asarray(img)\n",
    "        \n",
    "        dataset.append(data)\n",
    "        target.append(perClass)\n",
    "        \n"
   ]
  },
  {
   "cell_type": "code",
   "execution_count": 234,
   "metadata": {},
   "outputs": [],
   "source": [
    "# arr = np.empty((0,3))\n",
    "# arr = np.append(arr, np.array([[1, 2, 3]]), axis=0)\n",
    "# arr = np.append(arr, np.array([[4, 5, 0]]), axis=0)\n",
    "# arr = np.append(arr, np.array([[4, 5, 0]]), axis=0)\n",
    "# print(arr)\n",
    "# print(arr.shape)"
   ]
  },
  {
   "cell_type": "code",
   "execution_count": 235,
   "metadata": {
    "scrolled": true
   },
   "outputs": [
    {
     "name": "stdout",
     "output_type": "stream",
     "text": [
      "(164, 30, 30)\n",
      "<class 'numpy.ndarray'>\n"
     ]
    }
   ],
   "source": [
    "import numpy as np\n",
    "\n",
    "dataset = np.array(dataset)\n",
    "print(dataset.shape)\n",
    "# print(dataset)\n",
    "print(type(dataset))"
   ]
  },
  {
   "cell_type": "code",
   "execution_count": 236,
   "metadata": {},
   "outputs": [
    {
     "name": "stdout",
     "output_type": "stream",
     "text": [
      "(164, 30, 30)\n",
      "(164, 900)\n"
     ]
    }
   ],
   "source": [
    "print(dataset.shape)\n",
    "nsamples, nx, ny = dataset.shape\n",
    "dataset = dataset.reshape((nsamples,nx*ny))\n",
    "print(dataset.shape)"
   ]
  },
  {
   "cell_type": "code",
   "execution_count": 237,
   "metadata": {
    "scrolled": true
   },
   "outputs": [
    {
     "name": "stdout",
     "output_type": "stream",
     "text": [
      "(164,)\n",
      "['Ae_salang' 'Ae_salang' 'Ae_salang' 'Ae_salang' 'Ae_salang' 'Ae_salang'\n",
      " 'Ae_salang' 'Ae_salang' 'Ae_salang' 'Ae_salang' 'Ae_salang' 'Ae_salang'\n",
      " 'Ae_salang' 'Ae_salang' 'Ae_salang' 'Ae_salang' 'Ae_salang' 'Ae_salang'\n",
      " 'Ae_salang' 'Ae_salang' 'Ae_salang' 'Ae_salang' 'Ae_salang' 'Ae_salang'\n",
      " 'Ae_salang' 'Ae_salang' 'Ae_salang' 'Ae_salang' 'Ae_salang' 'Ae_salang'\n",
      " 'Ae_salang' 'Ae_salang' 'Ae_salang' 'Ae_salang' 'Ae_salang' 'Ae_salang'\n",
      " 'Ae_salang' 'Ae_salang' 'Ae_salang' 'Ae_salang' 'Ae_salang' 'Ae_salang'\n",
      " 'Ae_salang' 'Ae_salang' 'Ae_salang' 'Ae_salang' 'Ae_salang' 'Ae_salang'\n",
      " 'Ae_salang' 'Ae_salang' 'Ae_salang' 'Ae_salang' 'Ae_salang' 'Ae_salang'\n",
      " 'Ae_salang' 'Ae_salang' 'Ae_salang' 'Ae_salang' 'Ae_salang' 'Ae_salang'\n",
      " 'Ae_salang' 'Ae_salang' 'Ae_salang' 'Ae_salang' 'Ae_salang' 'Ae_salang'\n",
      " 'Ae_salang' 'Ae_salang' 'Ae_salang' 'Ae_salang' 'Ae_salang' 'Ae_salang'\n",
      " 'Ae_salang' 'Ae_salang' 'Ae_salang' 'Ae_salang' 'Ae_salang' 'Ae_salang'\n",
      " 'Ae_salang' 'Ae_salang' 'Ae_salang' 'Ae_salang' 'Ae_salang' 'Ae_salang'\n",
      " 'Ae_salang' 'Ae_salang' 'Ae_salang' 'Ae_salang' 'Ae_salang' 'Ae_salang'\n",
      " 'Ae_salang' 'Ae_salang' 'Ae_salang' 'Ae_salang' 'Ae_salang' 'Ae_salang'\n",
      " 'Ae_salang' 'Ae_salang' 'Ae_salang' 'Ae_seulpeul' 'Ae_seulpeul'\n",
      " 'Ae_seulpeul' 'Ae_seulpeul' 'Ae_seulpeul' 'Ae_seulpeul' 'Ae_seulpeul'\n",
      " 'Ae_seulpeul' 'Ae_seulpeul' 'Ae_seulpeul' 'Ae_seulpeul' 'Ae_seulpeul'\n",
      " 'Ae_seulpeul' 'Ae_seulpeul' 'Ae_seulpeul' 'Ae_seulpeul' 'Ae_seulpeul'\n",
      " 'Ae_seulpeul' 'Ae_seulpeul' 'Ae_seulpeul' 'Ae_seulpeul' 'Ae_seulpeul'\n",
      " 'Ae_seulpeul' 'Ae_seulpeul' 'Ae_seulpeul' 'Ae_seulpeul' 'Ae_seulpeul'\n",
      " 'Ae_seulpeul' 'Ae_seulpeul' 'Ae_seulpeul' 'Ae_seulpeul' 'Ae_seulpeul'\n",
      " 'Ae_seulpeul' 'Ae_seulpeul' 'Ae_seulpeul' 'Ae_seulpeul' 'Ae_seulpeul'\n",
      " 'Ae_seulpeul' 'Ae_seulpeul' 'Ae_seulpeul' 'Ae_seulpeul' 'Ae_seulpeul'\n",
      " 'Ae_seulpeul' 'Ae_seulpeul' 'Ae_seulpeul' 'Ae_seulpeul' 'Ae_seulpeul'\n",
      " 'Ae_seulpeul' 'Ae_seulpeul' 'Ae_seulpeul' 'Ae_seulpeul' 'Ae_seulpeul'\n",
      " 'Ae_seulpeul' 'Ae_seulpeul' 'Ae_seulpeul' 'Ae_seulpeul' 'Ae_seulpeul'\n",
      " 'Ae_seulpeul' 'Ae_seulpeul' 'Ae_seulpeul' 'Ae_seulpeul' 'Ae_seulpeul'\n",
      " 'Ae_seulpeul' 'Ae_seulpeul' 'Ae_seulpeul']\n",
      "(164,)\n"
     ]
    }
   ],
   "source": [
    "target = np.array(target)\n",
    "print(target.shape)\n",
    "print(target)\n",
    "\n",
    "# nsamples, nx, ny = target.shape\n",
    "# target = target.reshape((nsamples,nx*ny))\n",
    "print(target.shape)"
   ]
  },
  {
   "cell_type": "code",
   "execution_count": 238,
   "metadata": {
    "scrolled": true
   },
   "outputs": [
    {
     "name": "stdout",
     "output_type": "stream",
     "text": [
      "164\n",
      "164\n",
      "[255 255 255 255 255 255 255 255 253 253 254 255 255 255 255 255 255 255\n",
      " 255 255 255 255 255 255 255 255 255 255 255 255 255 255 255 255 255 255\n",
      " 255 255 255 254 254 255 255 255 254 255 255 255 255 255 255 255 255 255\n",
      " 255 255 255 255 255 255 255 255 255 255 255 255 255 255 255 255 255 255\n",
      " 255 255 255 254 255 255 255 255 255 255 255 255 255 255 255 255 255 255\n",
      " 255 255 255 255 255 255 255 255 255 255 254 255 255 255 255 255 255 255\n",
      " 255 255 255 255 255 255 255 255 255 255 255 255 255 255 255 255 255 255\n",
      " 255 255 255 255 255 255 255 255 254 255 255 255 255 255 255 255 255 255\n",
      " 255 255 255 255 255 255 255 255 255 255 255 255 255 255 255 255 255 255\n",
      " 255 255 254 255 255 255 255 255 255 255 255 255 255 255 255 255 255 255\n",
      " 255 255 255 255 255 255 255 255 255 255 255 255 255 232 199 254 255 255\n",
      " 255 255 255 255 255 255 255 255 255 255 255 255 255 255 255 255 255 255\n",
      " 255 255 255 255 254 255 255 149   3 147 255 255 255 255 255 255 255 255\n",
      " 255 255 255 255 255 255 255 255 255 255 255 255 255 255 250 153  90 136\n",
      " 243 100   1   6 190 253 254 255 255 254 254 255 255 255 255 255 254 254\n",
      " 255 255 255 255 255 255 255 255 181 156 197  34  65   7   1  18 216 255\n",
      " 255 254 255 254 254 255 255 255 255 255 255 254 255 255 255 255 255 255\n",
      " 255 255 155 189 253 156   1   1  59 201 253 253 255 255 255 255 255 255\n",
      " 255 255 255 255 255 255 255 255 255 255 255 255 255 255 165 140 204  23\n",
      "   1 102 248 254 218 152 245 254 255 254 255 254 255 255 255 255 255 255\n",
      " 255 255 255 255 255 255 255 255 187  29  23  86  69  98 151 133  84   4\n",
      "  36 221 255 254 254 254 255 255 255 255 255 255 255 255 255 255 255 255\n",
      " 255 255 221  51 186 229  68  41 232 209  28  17  87 213 255 255 253 255\n",
      " 255 255 255 255 255 255 255 255 255 255 255 255 255 255 255 251 169 156\n",
      " 100  56 210  26 104 231 254 255 255 255 254 255 255 254 255 255 255 255\n",
      " 255 255 255 255 255 255 255 255 250 123 191 210   8  23  49 184 254 254\n",
      " 254 254 255 254 255 254 255 254 254 255 255 255 253 253 255 255 255 244\n",
      " 206 237  92 189 254 246  78  69 239 255 255 255 255 255 255 255 255 255\n",
      " 255 255 255 255 255 255 255 255 255 255 252  82 105  54 175 253 255 117\n",
      "   1  83 182 255 255 255 255 255 255 255 255 255 255 255 255 255 255 255\n",
      " 255 253 255 254 234   8   5 167 253 255 255 203  27  16 152 255 255 255\n",
      " 255 255 255 255 255 255 255 255 255 255 255 255 255 255 255 254 249  17\n",
      "  58 255 255 255 255 253 149 105 254 255 255 255 255 255 255 255 255 255\n",
      " 255 255 255 255 255 255 255 255 254 255 254 158 179 255 255 255 255 254\n",
      " 225   5 213 255 255 255 255 255 255 255 255 255 255 255 255 255 255 255\n",
      " 255 255 255 255 254 254 254 255 253 255 255 255 234   3 221 255 255 255\n",
      " 255 255 255 255 255 255 255 255 255 255 255 255 255 255 255 255 255 255\n",
      " 255 255 255 254 255 254 240  23 249 255 255 255 255 255 255 255 255 255\n",
      " 255 255 255 255 255 255 255 255 255 255 253 254 254 254 255 255 255 255\n",
      " 253  45 190 252 255 255 255 255 255 255 255 255 255 255 255 255 255 255\n",
      " 255 255 255 255 255 255 255 255 254 253 255 255 255 147   6  45 127 247\n",
      " 255 255 255 255 255 255 255 255 255 255 255 255 255 255 255 255 255 255\n",
      " 255 255 255 255 255 255 255 249 155  23   4 214 254 255 254 255 255 255\n",
      " 255 255 255 255 255 255 255 255 255 255 255 255 255 255 254 255 255 255\n",
      " 255 255 255 245 213 254 255 255 255 255 254 255 255 255 255 255 255 255\n",
      " 255 255 255 255 255 255 255 255 254 254 255 255 255 254 254 255 255 255\n",
      " 254 255 255 255 254 255 255 255 255 255 255 255 255 255 255 255 255 255\n",
      " 255 255 255 255 255 255 255 255 254 255 255 255 255 255 255 255 255 254\n",
      " 255 255 255 255 255 255 255 255 255 255 255 255 255 255 255 255 255 255\n",
      " 255 255 255 255 255 254 255 255 255 254 255 255 255 255 255 255 255 255]\n",
      "(164, 900)\n",
      "(164,)\n",
      "['Ae_salang' 'Ae_salang' 'Ae_salang' 'Ae_salang' 'Ae_salang' 'Ae_salang'\n",
      " 'Ae_salang' 'Ae_salang' 'Ae_salang' 'Ae_salang' 'Ae_salang' 'Ae_salang'\n",
      " 'Ae_salang' 'Ae_salang' 'Ae_salang' 'Ae_salang' 'Ae_salang' 'Ae_salang'\n",
      " 'Ae_salang' 'Ae_salang' 'Ae_salang' 'Ae_salang' 'Ae_salang' 'Ae_salang'\n",
      " 'Ae_salang' 'Ae_salang' 'Ae_salang' 'Ae_salang' 'Ae_salang' 'Ae_salang'\n",
      " 'Ae_salang' 'Ae_salang' 'Ae_salang' 'Ae_salang' 'Ae_salang' 'Ae_salang'\n",
      " 'Ae_salang' 'Ae_salang' 'Ae_salang' 'Ae_salang' 'Ae_salang' 'Ae_salang'\n",
      " 'Ae_salang' 'Ae_salang' 'Ae_salang' 'Ae_salang' 'Ae_salang' 'Ae_salang'\n",
      " 'Ae_salang' 'Ae_salang' 'Ae_salang' 'Ae_salang' 'Ae_salang' 'Ae_salang'\n",
      " 'Ae_salang' 'Ae_salang' 'Ae_salang' 'Ae_salang' 'Ae_salang' 'Ae_salang'\n",
      " 'Ae_salang' 'Ae_salang' 'Ae_salang' 'Ae_salang' 'Ae_salang' 'Ae_salang'\n",
      " 'Ae_salang' 'Ae_salang' 'Ae_salang' 'Ae_salang' 'Ae_salang' 'Ae_salang'\n",
      " 'Ae_salang' 'Ae_salang' 'Ae_salang' 'Ae_salang' 'Ae_salang' 'Ae_salang'\n",
      " 'Ae_salang' 'Ae_salang' 'Ae_salang' 'Ae_salang' 'Ae_salang' 'Ae_salang'\n",
      " 'Ae_salang' 'Ae_salang' 'Ae_salang' 'Ae_salang' 'Ae_salang' 'Ae_salang'\n",
      " 'Ae_salang' 'Ae_salang' 'Ae_salang' 'Ae_salang' 'Ae_salang' 'Ae_salang'\n",
      " 'Ae_salang' 'Ae_salang' 'Ae_salang' 'Ae_seulpeul' 'Ae_seulpeul'\n",
      " 'Ae_seulpeul' 'Ae_seulpeul' 'Ae_seulpeul' 'Ae_seulpeul' 'Ae_seulpeul'\n",
      " 'Ae_seulpeul' 'Ae_seulpeul' 'Ae_seulpeul' 'Ae_seulpeul' 'Ae_seulpeul'\n",
      " 'Ae_seulpeul' 'Ae_seulpeul' 'Ae_seulpeul' 'Ae_seulpeul' 'Ae_seulpeul'\n",
      " 'Ae_seulpeul' 'Ae_seulpeul' 'Ae_seulpeul' 'Ae_seulpeul' 'Ae_seulpeul'\n",
      " 'Ae_seulpeul' 'Ae_seulpeul' 'Ae_seulpeul' 'Ae_seulpeul' 'Ae_seulpeul'\n",
      " 'Ae_seulpeul' 'Ae_seulpeul' 'Ae_seulpeul' 'Ae_seulpeul' 'Ae_seulpeul'\n",
      " 'Ae_seulpeul' 'Ae_seulpeul' 'Ae_seulpeul' 'Ae_seulpeul' 'Ae_seulpeul'\n",
      " 'Ae_seulpeul' 'Ae_seulpeul' 'Ae_seulpeul' 'Ae_seulpeul' 'Ae_seulpeul'\n",
      " 'Ae_seulpeul' 'Ae_seulpeul' 'Ae_seulpeul' 'Ae_seulpeul' 'Ae_seulpeul'\n",
      " 'Ae_seulpeul' 'Ae_seulpeul' 'Ae_seulpeul' 'Ae_seulpeul' 'Ae_seulpeul'\n",
      " 'Ae_seulpeul' 'Ae_seulpeul' 'Ae_seulpeul' 'Ae_seulpeul' 'Ae_seulpeul'\n",
      " 'Ae_seulpeul' 'Ae_seulpeul' 'Ae_seulpeul' 'Ae_seulpeul' 'Ae_seulpeul'\n",
      " 'Ae_seulpeul' 'Ae_seulpeul' 'Ae_seulpeul']\n"
     ]
    }
   ],
   "source": [
    "print(len(dataset))\n",
    "print(len(target))\n",
    "\n",
    "x_train = dataset[:]\n",
    "y_train = target[:]\n",
    "x_test = dataset[50:100]\n",
    "y_test = target[50:100]\n",
    "\n",
    "# x_train.type\n",
    "# x_test.type\n",
    "\n",
    "print(dataset[1])\n",
    "print(dataset.shape)\n",
    "print(target.shape)\n",
    "print(target)"
   ]
  },
  {
   "cell_type": "code",
   "execution_count": 239,
   "metadata": {},
   "outputs": [],
   "source": [
    "from sklearn.neural_network import MLPClassifier\n",
    "\n",
    "mlp = MLPClassifier(hidden_layer_sizes=(15,), activation='logistic', alpha=1e-4,\n",
    "                   solver='sgd', tol=1e-4, random_state=1,\n",
    "                   learning_rate_init=.1, verbose=True)"
   ]
  },
  {
   "cell_type": "code",
   "execution_count": 240,
   "metadata": {},
   "outputs": [
    {
     "name": "stdout",
     "output_type": "stream",
     "text": [
      "Iteration 1, loss = 0.67588160\n",
      "Iteration 2, loss = 0.67280432\n",
      "Iteration 3, loss = 0.67177154\n",
      "Iteration 4, loss = 0.67481863\n",
      "Iteration 5, loss = 0.67197895\n",
      "Iteration 6, loss = 0.67154188\n",
      "Iteration 7, loss = 0.67215166\n",
      "Iteration 8, loss = 0.67269899\n",
      "Iteration 9, loss = 0.67269319\n",
      "Iteration 10, loss = 0.67227381\n",
      "Iteration 11, loss = 0.67181065\n",
      "Iteration 12, loss = 0.67154955\n",
      "Iteration 13, loss = 0.67151022\n",
      "Iteration 14, loss = 0.67157768\n",
      "Iteration 15, loss = 0.67163464\n",
      "Iteration 16, loss = 0.67163255\n",
      "Iteration 17, loss = 0.67158728\n",
      "Training loss did not improve more than tol=0.000100 for 10 consecutive epochs. Stopping.\n"
     ]
    },
    {
     "data": {
      "text/plain": [
       "MLPClassifier(activation='logistic', hidden_layer_sizes=(15,),\n",
       "              learning_rate_init=0.1, random_state=1, solver='sgd',\n",
       "              verbose=True)"
      ]
     },
     "execution_count": 240,
     "metadata": {},
     "output_type": "execute_result"
    }
   ],
   "source": [
    "mlp.fit(x_train, y_train)"
   ]
  },
  {
   "cell_type": "code",
   "execution_count": 241,
   "metadata": {
    "scrolled": true
   },
   "outputs": [
    {
     "data": {
      "image/png": "[encoded data removed]",
      "text/plain": [
       "<Figure size 432x288 with 1 Axes>"
      ]
     },
     "metadata": {
      "needs_background": "light"
     },
     "output_type": "display_data"
    }
   ],
   "source": [
    "import matplotlib.pyplot as plt\n",
    "img = cv2.imread('./sampleData/Ae_seulpeul/t_Ae_seulpeul_1.jpg')\n",
    "plt.imshow(img, cmap='binary')\n",
    "plt.show()"
   ]
  },
  {
   "cell_type": "code",
   "execution_count": 242,
   "metadata": {},
   "outputs": [
    {
     "data": {
      "text/plain": [
       "array(['Ae_salang', 'Ae_salang', 'Ae_salang', 'Ae_salang', 'Ae_salang',\n",
       "       'Ae_salang', 'Ae_salang', 'Ae_salang', 'Ae_salang', 'Ae_salang',\n",
       "       'Ae_salang', 'Ae_salang', 'Ae_salang', 'Ae_salang', 'Ae_salang',\n",
       "       'Ae_salang', 'Ae_salang', 'Ae_salang', 'Ae_salang', 'Ae_salang',\n",
       "       'Ae_salang', 'Ae_salang', 'Ae_salang', 'Ae_salang', 'Ae_salang',\n",
       "       'Ae_salang', 'Ae_salang', 'Ae_salang', 'Ae_salang', 'Ae_salang',\n",
       "       'Ae_salang', 'Ae_salang', 'Ae_salang', 'Ae_salang', 'Ae_salang',\n",
       "       'Ae_salang', 'Ae_salang', 'Ae_salang', 'Ae_salang', 'Ae_salang',\n",
       "       'Ae_salang', 'Ae_salang', 'Ae_salang', 'Ae_salang', 'Ae_salang',\n",
       "       'Ae_salang', 'Ae_salang', 'Ae_salang', 'Ae_salang', 'Ae_salang'],\n",
       "      dtype='<U11')"
      ]
     },
     "execution_count": 242,
     "metadata": {},
     "output_type": "execute_result"
    }
   ],
   "source": [
    "predictions = mlp.predict(x_test)\n",
    "predictions[:150]"
   ]
  },
  {
   "cell_type": "code",
   "execution_count": 243,
   "metadata": {},
   "outputs": [
    {
     "data": {
      "text/plain": [
       "array(['Ae_salang', 'Ae_salang', 'Ae_salang', 'Ae_salang', 'Ae_salang',\n",
       "       'Ae_salang', 'Ae_salang', 'Ae_salang', 'Ae_salang', 'Ae_salang',\n",
       "       'Ae_salang', 'Ae_salang', 'Ae_salang', 'Ae_salang', 'Ae_salang',\n",
       "       'Ae_salang', 'Ae_salang', 'Ae_salang', 'Ae_salang', 'Ae_salang',\n",
       "       'Ae_salang', 'Ae_salang', 'Ae_salang', 'Ae_salang', 'Ae_salang',\n",
       "       'Ae_salang', 'Ae_salang', 'Ae_salang', 'Ae_salang', 'Ae_salang',\n",
       "       'Ae_salang', 'Ae_salang', 'Ae_salang', 'Ae_salang', 'Ae_salang',\n",
       "       'Ae_salang', 'Ae_salang', 'Ae_salang', 'Ae_salang', 'Ae_salang',\n",
       "       'Ae_salang', 'Ae_salang', 'Ae_salang', 'Ae_salang', 'Ae_salang',\n",
       "       'Ae_salang', 'Ae_salang', 'Ae_salang', 'Ae_salang', 'Ae_seulpeul'],\n",
       "      dtype='<U11')"
      ]
     },
     "execution_count": 243,
     "metadata": {},
     "output_type": "execute_result"
    }
   ],
   "source": [
    "y_test[:150]"
   ]
  },
  {
   "cell_type": "code",
   "execution_count": 244,
   "metadata": {},
   "outputs": [
    {
     "data": {
      "text/plain": [
       "0.98"
      ]
     },
     "execution_count": 244,
     "metadata": {},
     "output_type": "execute_result"
    }
   ],
   "source": [
    "from sklearn.metrics import accuracy_score\n",
    "accuracy_score(y_test, predictions)"
   ]
  },
  {
   "cell_type": "code",
   "execution_count": null,
   "metadata": {},
   "outputs": [],
   "source": []
  }
 ],
 "metadata": {
  "kernelspec": {
   "display_name": "Python 3",
   "language": "python",
   "name": "python3"
  },
  "language_info": {
   "codemirror_mode": {
    "name": "ipython",
    "version": 3
   },
   "file_extension": ".py",
   "mimetype": "text/x-python",
   "name": "python",
   "nbconvert_exporter": "python",
   "pygments_lexer": "ipython3",
   "version": "3.8.5"
  }
 },
 "nbformat": 4,
 "nbformat_minor": 4
}
