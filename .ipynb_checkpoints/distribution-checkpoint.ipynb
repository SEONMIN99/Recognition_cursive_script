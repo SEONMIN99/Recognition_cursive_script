{
 "cells": [
  {
   "cell_type": "code",
   "execution_count": 2,
   "metadata": {},
   "outputs": [
    {
     "name": "stdout",
     "output_type": "stream",
     "text": [
      "C:\\Users\\SeonminKim\\Desktop\\cursive_script\n"
     ]
    }
   ],
   "source": [
    "import os\n",
    "from glob import glob\n",
    "from matplotlib import pyplot as plt\n",
    "import pandas as pd \n",
    "\n",
    "cwd = os.path.dirname(os.path.abspath(\"__file__\"))\n",
    "os.chdir(cwd)\n",
    "print(cwd)"
   ]
  },
  {
   "cell_type": "code",
   "execution_count": 3,
   "metadata": {},
   "outputs": [
    {
     "name": "stdout",
     "output_type": "stream",
     "text": [
      "['Ae_salang', 'Ae_seulpeul', 'Ag_aghal', 'An_pyeonan', 'A_ai', 'A_uisimhal', 'Baek_huin', 'Bal_pil', 'Bang_hemel', 'Bang_mageul', 'Bang_mo', 'Bang_nara', 'Bang_noeul', 'Ban_dorikil', 'Ban_duduk', 'Ban_gaji', 'Beom_beomhal', 'Beom_mureut', 'Bin_jaju', 'Bin_son', 'Bi_anil', 'Bi_nal', 'Bok_bae', 'Bong_batdeul', 'Bong_bonghal', 'Bo_keul', 'Buk_buknyeok', 'Bul_bucheo', 'Bun_dalril', 'Bun_eojireoul', 'Bun_nanul', 'Bu_anil', 'Bu_buse', 'Bu_dadareul', 'Bu_ddeul', 'Bu_eondeok', 'Bu_janggun', 'Bu_maeul', 'Bu_seuseung', 'Byeol_nanul', 'Byeong_aureul', 'Byeong_narani', 'Byeon_bunbyeolhal', 'Byeon_ga', 'Chae_pungchae', 'Chag_jabeul', 'Chag_ttulheul', 'Cham_chamyeohal', 'Chang_changseonghal', 'Chang_gosjib', 'Cha_beogeum', 'Cha_billil', 'Cha_daleul', 'Cha_sure', 'Cha_tto', 'Cheob_butil', 'Cheob_pyeonji', 'Cheob_yeomtamhal', 'Cheog_geunsimhal', 'Cheog_healil', 'Cheom_deohal', 'Cheom_ileul', 'Cheon_cheonhal', 'Cheon_saem', 'Cheon_yateul', 'Cheo_gos', 'Che_mom', 'Chig_beobchig', 'Chil_ilgob', 'Chim_chimnohal', 'Ching_ilkeoleul', 'Chin_chinhal', 'Chi_bukkeuleoul', 'Chi_i', 'Choe_gajang', 'Chong_habhal', 'Chon_madi', 'Chon_maeul', 'Cho_cheoeum', 'Cho_pul', 'Chug_jjocheul', 'Chung_chaeul', 'Chun_bom', 'Chu_chunala', 'Chu_jjocheul', 'Chu_mil', 'Chwi_chwihal', 'Chwi_gajil', 'Chwi_naagal', 'Dae_daehal', 'Dae_daesinhal', 'Dae_il', 'Dal_tongdalhal', 'Dam_goel', 'Dang_jip', 'Dang_mattang', 'Dang_muri', 'Dan_bulgeul', 'Dan_cheunggye', 'Dan_jjalbeul', 'Dan_kkeut', 'Da_cha', 'Da_maneul', 'Deuk_eodeul', 'Deung_muri', 'Deung_oreul', 'Dong_dongnyeok', 'Dong_hangaji', 'Don_dotaul', 'Do_dodul', 'Do_doeup', 'Do_gil', 'Do_ireul', 'Do_kal', 'Du_meori', 'Eeom_eomhal', 'Eeom_mundeug', 'Eeon_malsseum', 'Eeo_eojosa', 'Eeo_malbulil', 'Eeub_goeul', 'Eeul_sae', 'Eeun_seonghal', 'Gaek_son', 'Gae_da', 'Gae_gochil', 'Gak_dari', 'Gak_mulrichil', 'Gam_dal', 'Gam_dul', 'Gam_neukkil', 'Gan_bol', 'Gan_daezzok', 'Gan_gan', 'Gan_garil', 'Ga_deohal', 'Ga_norae', 'Ga_olheul', 'Geon_seul', 'Geon_sugeon', 'Geo_deul', 'Geo_gal', 'Geo_makeul', 'Geo_sal', 'Geuk_gasi', 'Geuk_igil', 'Geum_geomungo', 'Geum_ilbul', 'Geum_sae', 'Geun_bburi', 'Geun_gakkaul', 'Geun_minari', 'Gi_beoril', 'Gi_eojji', 'Gi_geureut', 'Gi_girokhal', 'Gi_ileonal', 'Gi_jaeju', 'Gi_mom', 'Gi_myeot', 'Goe_hwaenamu', 'Gok_gol', 'Gok_gubeul', 'Gong_bil', 'Gong_duryeoul', 'Gong_gong', 'Gong_hangaji', 'Gon_mat', 'Go_guteul', 'Go_nopeul', 'Go_oeroul', 'Guk_gukhwa', 'Gu_ahop', 'Gu_duryeowohal', 'Gu_geulgwi', 'Gu_guhal', 'Gu_ip', 'Gu_mannal', 'Gu_ye', 'Gwae_geol', 'Gwak_dulre', 'Gwan_bol', 'Gwan_hangmok', 'Gwa_chang', 'Gwi_dolagal', 'Gwol_daegwol', 'Gyeol_maejeul', 'Gyeong_byeoseul', 'Gyeong_datul', 'Gyeong_gochil', 'Gyeong_gyeongsa', 'Gyeong_machimnae', 'Gyeon_bol', 'Gyeon_bonael', 'Gyeon_guteul', 'Gye_dak', 'Gye_mael', 'Gyo_deul', 'Gyo_gareuchil', 'Gyo_nopeul', 'Gyun_goreul', 'Gyu_byeol', 'Gyu_hol', 'Gyu_yeotbol', 'Hab_habhal', 'Haeng_dahaeng', 'Haeng_danil', 'Hae_eojji', 'Hag_baeul', 'Ham_meogeumeul', 'Han_hangahal', 'Ha_alae', 'Ha_eojji', 'Ha_yeoleum', 'Heol_swil', 'Hoe_moil', 'Hoe_pumeul', 'Hog_mihoghal', 'Hol_gabjagi', 'Hong_bulgeul', 'Hon_eoduul', 'Hon_heulil', 'Hon_seokkeul', 'Ho_eojosa', 'Ho_ileum', 'Ho_jige', 'Ho_teoleog', 'Ho_yeou', 'Hui_bichnal', 'Hui_deumul', 'Hui_gippeul', 'Hu_jehu', 'Hwang_imgeum', 'Hwan_dolaol', 'Hwa_byeo', 'Hwa_doel', 'Hwa_kkoch', 'Hyang_hyanghal', 'Hyang_sigol', 'Hyeob_kkil', 'Hyeong_jeouldae', 'Hyeong_moyang', 'Hyeon_geomeul', 'Hyeon_maedal', 'Hyung_gaseum', 'Hyu_swil', 'Il_han', 'Il_nal', 'Im_imhal', 'In_al', 'In_beom', 'In_inhal', 'In_salam', 'I_daleul', 'I_malieul', 'I_olangkae', 'I_sseo', 'I_swiul', 'Jae_eojosa', 'Jae_jaeju', 'Jae_jaemul', 'Jae_simeul', 'Jag_jieul', 'Jang_eoleun', 'Jang_gil', 'Jang_jangcha', 'Ja_adeul', 'Ja_seuseulo', 'Jeog_dodug', 'Jeom_jeom', 'Jeom_jeomjeom', 'Jeong_baleul', 'Jeong_jeonghal', 'Jeong_jeongsuli', 'Jeong_sot', 'Jeong_tteus', 'Jeon_giloghal', 'Jeon_gomulae', 'Jeon_jeonhal', 'Jeon_onjeonhal', 'Jeug_god', 'Jeung_deohal', 'Jeung_iljjig', 'Je_au', 'Je_gajileonhal', 'Je_gub', 'Jig_godeul', 'Jin_cham', 'Ji_al', 'Ji_gaji', 'Ji_gal', 'Ji_geuchil', 'Ji_jitaenghal', 'Ji_jongi', 'Jog_bal', 'Jong_jocheul', 'Jong_machil', 'Jon_isseul', 'Jon_nopeul', 'Jo_achim', 'Jo_bichil', 'Jo_daechu', 'Jo_doul', 'Jo_eogjo', 'Jo_ileul', 'Jo_muli', 'Jo_sae', 'Jung_gaunde', 'Ju_bulgeul', 'Ju_sul', 'Jwa_oen', 'Lo_gil', 'Lye_jong', 'Lyun_inlyun', 'Mae_maeyang', 'Mak_eobseul', 'Mal_kkeut', 'Mang_adeukhal', 'Mang_heomanghal', 'Man_gubeul', 'Man_kkeul', 'Ma_mal', 'Mil_bbaekbbaekhal', 'Min_baekseong', 'Min_dapdaphal', 'Mi_anil', 'Mi_jageul', 'Mi_mihokal', 'Mok_namu', 'Mong_kkum', 'Mo_amu', 'Mo_chang', 'Mo_eomi', 'Mo_moyang', 'Mul_mal', 'Mun_deuleul', 'Mun_geurwol', 'Mun_muleul', 'Mun_mun', 'Mu_eobseul', 'Myeol_kkeojil', 'Myeong_balgeul', 'Myeong_ireum', 'Myeon_myeonhal', 'Myo_sadang', 'Nae_ie', 'Nam_namnyeok', 'Nan_eoryeoul', 'Neung_neunghal', 'Nyeom_saenggak', 'Nyeon_hae', 'Ong_hwahal', 'O_geuleuchil', 'O_seongssi', 'Paeng_seonssi', 'Pal_yeodeolb', 'Pea_jogae', 'Pib_mojalal', 'Pib_pibbaghal', 'Pil_bus', 'Pi_gajug', 'Pyeon_chiuchil', 'Pye_haejil', 'Rae_ol', 'Rak_ddeoreojil', 'Rang_sarangchae', 'Rap_mil', 'Rim_imhal', 'Rim_supul', 'Rin_iut', 'Rip_seol', 'Ri_daseuril', 'Ri_ddeonal', 'Ri_maeul', 'Ri_parihal', 'Ri_sok', 'Rok_pureul', 'Rok_saseum', 'Ron_nonhal', 'Ro_ilhal', 'Ro_neulgeul', 'Ro_nodunhal', 'Ryang_du', 'Ryang_eojil', 'Ryeok_him', 'Ryeon_itdaeul', 'Ryeon_yeonieul', 'Ryeo_saenggakhal', 'Ryo_aeoraji', 'Ryu_jugil', 'Ryu_meomureul', 'Ryu_muri', 'Sak_choharu', 'Sam_seok', 'Sang_ima', 'Sang_jangsa', 'Sang_jasehal', 'Sang_kokkiri', 'Sang_matbol', 'Sang_seolo', 'Sang_seoro', 'Sang_wit', 'Sa_dalmeul', 'Sa_ginbaem', 'Sa_hayeogeum', 'Sa_i', 'Sa_jugeul', 'Sa_mateul', 'Sa_saenggak', 'Sa_saryehal', 'Sa_seuseung', 'Sa_sil', 'Seong_ilul', 'Seong_irul', 'Seong_seongin', 'Seon_bepul', 'Seon_dol', 'Seon_meonjeo', 'Seop_geonneol', 'Seo_jwi', 'Seo_silmari', 'Seul_mureup', 'Seung_nokkeun', 'Se_hae', 'Se_hyeongse', 'Se_ingan', 'Sib_yeol', 'Sig_al', 'Sig_bab', 'Sig_swil', 'Sil_da', 'Sil_ilheul', 'Sim_chajeul', 'Sim_gipeul', 'Sim_maeum', 'Sim_simhal', 'Sin_gwisin', 'Sin_mom', 'Si_boil', 'Si_bol', 'Si_oeppulso', 'Si_ttae', 'Soe_busul', 'Son_budeureoul', 'Son_sonja', 'So_ba', 'So_bureul', 'So_jeogeul', 'So_saejip', 'So_sseul', 'So_sseulsseulhal', 'Ssi_seongssi', 'Suk_ajeossi', 'Su_bilog', 'Su_ddareul', 'Su_deuriul', 'Su_geodul', 'Su_meori', 'Su_moksum', 'Su_moreumjigi', 'Su_mul', 'Su_namu', 'Su_neulgeuni', 'Su_sem', 'Su_son', 'Taeg_jib', 'Tae_byeol', 'Tae_geoui', 'Tal_ppaeaseul', 'Tam_tamnael', 'Tan_samkil', 'Ta_ageo', 'Toe_mulleonal', 'Tong_tonghal', 'Tu_samuchil', 'Ui_mattang', 'Ui_os', 'Ui_tteus', 'Ui_uijihal', 'Ui_uijihal_2', 'Ui_uisimhal', 'Ui_uiwon', 'Ung_gom', 'U_beos', 'U_deoug', 'U_geunsim', 'U_jjag', 'U_oleunjjog', 'U_so', 'U_yeomlyeohal', 'Wan_wanjeonhal', 'Wi_byeoseul', 'Wi_eogeusnal', 'Wi_hal', 'Wi_ileul', 'Wi_matgil', 'Wi_wieom', 'Wi_wilohal', 'Wol_dal', 'Won_eutteum', 'Won_jala', 'Won_seongssi', 'Won_wonhal', 'Yag_gateul', 'Yeog_tto', 'Yeong_chal', 'Yeong_gil', 'Yeong_yeonghwa', 'Yeon_geuleol', 'Yeon_inyeon', 'Yeo_deobul', 'Yeo_gateul', 'Yeo_yeoja', 'Ye_seulgi', 'Yog_hagojahal', 'Yog_yogdoel', 'Yong_eolgul', 'Yong_sseul', 'Yong_yong', 'Yo_duleul', 'Yug_yeoseos', 'Yu_budeuleoul', 'Yu_isseul', 'Yu_malmiameul', 'Yu_ohilyeo', 'Yu_saenggaghal']\n",
      "526\n"
     ]
    }
   ],
   "source": [
    "# number of train_1 folder\n",
    "train_class = os.listdir('./Data(30)')\n",
    "print(train_class)\n",
    "print(len(train_class))"
   ]
  },
  {
   "cell_type": "code",
   "execution_count": 5,
   "metadata": {},
   "outputs": [
    {
     "name": "stdout",
     "output_type": "stream",
     "text": [
      "['Ae_salang', 'Ae_seulpeul', 'Ag_aghal', 'An_pyeonan', 'A_ai', 'A_uisimhal', 'Baek_huin', 'Bal_pil', 'Bang_hemel', 'Bang_mageul', 'Bang_mo', 'Bang_nara', 'Bang_noeul', 'Ban_dorikil', 'Ban_duduk', 'Ban_gaji', 'Beom_beomhal', 'Beom_mureut', 'Bin_jaju', 'Bin_son', 'Bi_anil', 'Bi_nal', 'Bok_bae', 'Bong_batdeul', 'Bong_bonghal', 'Bo_keul', 'Buk_buknyeok', 'Bul_bucheo', 'Bun_dalril', 'Bun_eojireoul', 'Bun_nanul', 'Bu_anil', 'Bu_buse', 'Bu_dadareul', 'Bu_ddeul', 'Bu_eondeok', 'Bu_janggun', 'Bu_maeul', 'Bu_seuseung', 'Byeol_nanul', 'Byeong_aureul', 'Byeong_narani', 'Byeon_bunbyeolhal', 'Byeon_ga', 'Chae_pungchae', 'Chag_jabeul', 'Chag_ttulheul', 'Cham_chamyeohal', 'Chang_changseonghal', 'Chang_gosjib', 'Cha_beogeum', 'Cha_billil', 'Cha_daleul', 'Cha_sure', 'Cha_tto', 'Cheob_butil', 'Cheob_pyeonji', 'Cheob_yeomtamhal', 'Cheog_geunsimhal', 'Cheog_healil', 'Cheom_deohal', 'Cheom_ileul', 'Cheon_cheonhal', 'Cheon_saem', 'Cheon_yateul', 'Cheo_gos', 'Che_mom', 'Chig_beobchig', 'Chil_ilgob', 'Chim_chimnohal', 'Ching_ilkeoleul', 'Chin_chinhal', 'Chi_bukkeuleoul', 'Chi_i', 'Choe_gajang', 'Chong_habhal', 'Chon_madi', 'Chon_maeul', 'Cho_cheoeum', 'Cho_pul', 'Chug_jjocheul', 'Chung_chaeul', 'Chun_bom', 'Chu_chunala', 'Chu_jjocheul', 'Chu_mil', 'Chwi_chwihal', 'Chwi_gajil', 'Chwi_naagal', 'Dae_daehal', 'Dae_daesinhal', 'Dae_il', 'Dal_tongdalhal', 'Dam_goel', 'Dang_jip', 'Dang_mattang', 'Dang_muri', 'Dan_bulgeul', 'Dan_cheunggye', 'Dan_jjalbeul', 'Dan_kkeut', 'Da_cha', 'Da_maneul', 'Deuk_eodeul', 'Deung_muri', 'Deung_oreul', 'Dong_dongnyeok', 'Dong_hangaji', 'Don_dotaul', 'Do_dodul', 'Do_doeup', 'Do_gil', 'Do_ireul', 'Do_kal', 'Du_meori', 'Eeom_eomhal', 'Eeom_mundeug', 'Eeon_malsseum', 'Eeo_eojosa', 'Eeo_malbulil', 'Eeub_goeul', 'Eeul_sae', 'Eeun_seonghal', 'Gaek_son', 'Gae_da', 'Gae_gochil', 'Gak_dari', 'Gak_mulrichil', 'Gam_dal', 'Gam_dul', 'Gam_neukkil', 'Gan_bol', 'Gan_daezzok', 'Gan_gan', 'Gan_garil', 'Ga_deohal', 'Ga_norae', 'Ga_olheul', 'Geon_seul', 'Geon_sugeon', 'Geo_deul', 'Geo_gal', 'Geo_makeul', 'Geo_sal', 'Geuk_gasi', 'Geuk_igil', 'Geum_geomungo', 'Geum_ilbul', 'Geum_sae', 'Geun_bburi', 'Geun_gakkaul', 'Geun_minari', 'Gi_beoril', 'Gi_eojji', 'Gi_geureut', 'Gi_girokhal', 'Gi_ileonal', 'Gi_jaeju', 'Gi_mom', 'Gi_myeot', 'Goe_hwaenamu', 'Gok_gol', 'Gok_gubeul', 'Gong_bil', 'Gong_duryeoul', 'Gong_gong', 'Gong_hangaji', 'Gon_mat', 'Go_guteul', 'Go_nopeul', 'Go_oeroul', 'Guk_gukhwa', 'Gu_ahop', 'Gu_duryeowohal', 'Gu_geulgwi', 'Gu_guhal', 'Gu_ip', 'Gu_mannal', 'Gu_ye', 'Gwae_geol', 'Gwak_dulre', 'Gwan_bol', 'Gwan_hangmok', 'Gwa_chang', 'Gwi_dolagal', 'Gwol_daegwol', 'Gyeol_maejeul', 'Gyeong_byeoseul', 'Gyeong_datul', 'Gyeong_gochil', 'Gyeong_gyeongsa', 'Gyeong_machimnae', 'Gyeon_bol', 'Gyeon_bonael', 'Gyeon_guteul', 'Gye_dak', 'Gye_mael', 'Gyo_deul', 'Gyo_gareuchil', 'Gyo_nopeul', 'Gyun_goreul', 'Gyu_byeol', 'Gyu_hol', 'Gyu_yeotbol', 'Hab_habhal', 'Haeng_dahaeng', 'Haeng_danil', 'Hae_eojji', 'Hag_baeul', 'Ham_meogeumeul', 'Han_hangahal', 'Ha_alae', 'Ha_eojji', 'Ha_yeoleum', 'Heol_swil', 'Hoe_moil', 'Hoe_pumeul', 'Hog_mihoghal', 'Hol_gabjagi', 'Hong_bulgeul', 'Hon_eoduul', 'Hon_heulil', 'Hon_seokkeul', 'Ho_eojosa', 'Ho_ileum', 'Ho_jige', 'Ho_teoleog', 'Ho_yeou', 'Hui_bichnal', 'Hui_deumul', 'Hui_gippeul', 'Hu_jehu', 'Hwang_imgeum', 'Hwan_dolaol', 'Hwa_byeo', 'Hwa_doel', 'Hwa_kkoch', 'Hyang_hyanghal', 'Hyang_sigol', 'Hyeob_kkil', 'Hyeong_jeouldae', 'Hyeong_moyang', 'Hyeon_geomeul', 'Hyeon_maedal', 'Hyung_gaseum', 'Hyu_swil', 'Il_han', 'Il_nal', 'Im_imhal', 'In_al', 'In_beom', 'In_inhal', 'In_salam', 'I_daleul', 'I_malieul', 'I_olangkae', 'I_sseo', 'I_swiul', 'Jae_eojosa', 'Jae_jaeju', 'Jae_jaemul', 'Jae_simeul', 'Jag_jieul', 'Jang_eoleun', 'Jang_gil', 'Jang_jangcha', 'Ja_adeul', 'Ja_seuseulo', 'Jeog_dodug', 'Jeom_jeom', 'Jeom_jeomjeom', 'Jeong_baleul', 'Jeong_jeonghal', 'Jeong_jeongsuli', 'Jeong_sot', 'Jeong_tteus', 'Jeon_giloghal', 'Jeon_gomulae', 'Jeon_jeonhal', 'Jeon_onjeonhal', 'Jeug_god', 'Jeung_deohal', 'Jeung_iljjig', 'Je_au', 'Je_gajileonhal', 'Je_gub', 'Jig_godeul', 'Jin_cham', 'Ji_al', 'Ji_gaji', 'Ji_gal', 'Ji_geuchil', 'Ji_jitaenghal', 'Ji_jongi', 'Jog_bal', 'Jong_jocheul', 'Jong_machil', 'Jon_isseul', 'Jon_nopeul', 'Jo_achim', 'Jo_bichil', 'Jo_daechu', 'Jo_doul', 'Jo_eogjo', 'Jo_ileul', 'Jo_muli', 'Jo_sae', 'Jung_gaunde', 'Ju_bulgeul', 'Ju_sul', 'Jwa_oen', 'Lo_gil', 'Lye_jong', 'Lyun_inlyun', 'Mae_maeyang', 'Mak_eobseul', 'Mal_kkeut', 'Mang_adeukhal', 'Mang_heomanghal', 'Man_gubeul', 'Man_kkeul', 'Ma_mal', 'Mil_bbaekbbaekhal', 'Min_baekseong', 'Min_dapdaphal', 'Mi_anil', 'Mi_jageul', 'Mi_mihokal', 'Mok_namu', 'Mong_kkum', 'Mo_amu', 'Mo_chang', 'Mo_eomi', 'Mo_moyang', 'Mul_mal', 'Mun_deuleul', 'Mun_geurwol', 'Mun_muleul', 'Mun_mun', 'Mu_eobseul', 'Myeol_kkeojil', 'Myeong_balgeul', 'Myeong_ireum', 'Myeon_myeonhal', 'Myo_sadang', 'Nae_ie', 'Nam_namnyeok', 'Nan_eoryeoul', 'Neung_neunghal', 'Nyeom_saenggak', 'Nyeon_hae', 'Ong_hwahal', 'O_geuleuchil', 'O_seongssi', 'Paeng_seonssi', 'Pal_yeodeolb', 'Pea_jogae', 'Pib_mojalal', 'Pib_pibbaghal', 'Pil_bus', 'Pi_gajug', 'Pyeon_chiuchil', 'Pye_haejil', 'Rae_ol', 'Rak_ddeoreojil', 'Rang_sarangchae', 'Rap_mil', 'Rim_imhal', 'Rim_supul', 'Rin_iut', 'Rip_seol', 'Ri_daseuril', 'Ri_ddeonal', 'Ri_maeul', 'Ri_parihal', 'Ri_sok', 'Rok_pureul', 'Rok_saseum', 'Ron_nonhal', 'Ro_ilhal', 'Ro_neulgeul', 'Ro_nodunhal', 'Ryang_du', 'Ryang_eojil', 'Ryeok_him', 'Ryeon_itdaeul', 'Ryeon_yeonieul', 'Ryeo_saenggakhal', 'Ryo_aeoraji', 'Ryu_jugil', 'Ryu_meomureul', 'Ryu_muri', 'Sak_choharu', 'Sam_seok', 'Sang_ima', 'Sang_jangsa', 'Sang_jasehal', 'Sang_kokkiri', 'Sang_matbol', 'Sang_seolo', 'Sang_seoro', 'Sang_wit', 'Sa_dalmeul', 'Sa_ginbaem', 'Sa_hayeogeum', 'Sa_i', 'Sa_jugeul', 'Sa_mateul', 'Sa_saenggak', 'Sa_saryehal', 'Sa_seuseung', 'Sa_sil', 'Seong_ilul', 'Seong_irul', 'Seong_seongin', 'Seon_bepul', 'Seon_dol', 'Seon_meonjeo', 'Seop_geonneol', 'Seo_jwi', 'Seo_silmari', 'Seul_mureup', 'Seung_nokkeun', 'Se_hae', 'Se_hyeongse', 'Se_ingan', 'Sib_yeol', 'Sig_al', 'Sig_bab', 'Sig_swil', 'Sil_da', 'Sil_ilheul', 'Sim_chajeul', 'Sim_gipeul', 'Sim_maeum', 'Sim_simhal', 'Sin_gwisin', 'Sin_mom', 'Si_boil', 'Si_bol', 'Si_oeppulso', 'Si_ttae', 'Soe_busul', 'Son_budeureoul', 'Son_sonja', 'So_ba', 'So_bureul', 'So_jeogeul', 'So_saejip', 'So_sseul', 'So_sseulsseulhal', 'Ssi_seongssi', 'Suk_ajeossi', 'Su_bilog', 'Su_ddareul', 'Su_deuriul', 'Su_geodul', 'Su_meori', 'Su_moksum', 'Su_moreumjigi', 'Su_mul', 'Su_namu', 'Su_neulgeuni', 'Su_sem', 'Su_son', 'Taeg_jib', 'Tae_byeol', 'Tae_geoui', 'Tal_ppaeaseul', 'Tam_tamnael', 'Tan_samkil', 'Ta_ageo', 'Toe_mulleonal', 'Tong_tonghal', 'Tu_samuchil', 'Ui_mattang', 'Ui_os', 'Ui_tteus', 'Ui_uijihal', 'Ui_uijihal_2', 'Ui_uisimhal', 'Ui_uiwon', 'Ung_gom', 'U_beos', 'U_deoug', 'U_geunsim', 'U_jjag', 'U_oleunjjog', 'U_so', 'U_yeomlyeohal', 'Wan_wanjeonhal', 'Wi_byeoseul', 'Wi_eogeusnal', 'Wi_hal', 'Wi_ileul', 'Wi_matgil', 'Wi_wieom', 'Wi_wilohal', 'Wol_dal', 'Won_eutteum', 'Won_jala', 'Won_seongssi', 'Won_wonhal', 'Yag_gateul', 'Yeog_tto', 'Yeong_chal', 'Yeong_gil', 'Yeong_yeonghwa', 'Yeon_geuleol', 'Yeon_inyeon', 'Yeo_deobul', 'Yeo_gateul', 'Yeo_yeoja', 'Ye_seulgi', 'Yog_hagojahal', 'Yog_yogdoel', 'Yong_eolgul', 'Yong_sseul', 'Yong_yong', 'Yo_duleul', 'Yug_yeoseos', 'Yu_budeuleoul', 'Yu_isseul', 'Yu_malmiameul', 'Yu_ohilyeo', 'Yu_saenggaghal']\n",
      "65\n"
     ]
    }
   ],
   "source": [
    "print(os.listdir('./Data(30)'))\n",
    "print(len(os.listdir('./Data(30)/A_ai//')))"
   ]
  },
  {
   "cell_type": "code",
   "execution_count": 8,
   "metadata": {},
   "outputs": [
    {
     "name": "stdout",
     "output_type": "stream",
     "text": [
      "Bu_anil 330\n",
      "Mu_eobseul 377\n"
     ]
    }
   ],
   "source": [
    "# number of each cursive_scrip in train_1 folder\n",
    "\n",
    "cursive_script = []\n",
    "num_data = []\n",
    "\n",
    "for data in train_class:\n",
    "    \n",
    "    num = len(os.listdir('./Data(30)/{0}'.format(data)))\n",
    "    if num >= 300:\n",
    "        cursive_script.append(data)\n",
    "        num_data.append(num)\n",
    "        print(data, num)\n",
    "# print(cursive_script, num_data)"
   ]
  },
  {
   "cell_type": "code",
   "execution_count": 60,
   "metadata": {},
   "outputs": [
    {
     "data": {
      "image/png": "[encoded data removed]",
      "text/plain": [
       "<Figure size 432x288 with 1 Axes>"
      ]
     },
     "metadata": {
      "needs_background": "light"
     },
     "output_type": "display_data"
    }
   ],
   "source": [
    "# distribute as histograms\n",
    "\n",
    "plt.bar(cursive_script, num_data)\n",
    "plt.ylabel(\"num of cursive script data\")\n",
    "plt.xlabel(\"cursive scrip\")\n",
    "plt.show()"
   ]
  },
  {
   "cell_type": "code",
   "execution_count": 82,
   "metadata": {},
   "outputs": [
    {
     "data": {
      "text/html": [
       "<div>\n",
       "<style scoped>\n",
       "    .dataframe tbody tr th:only-of-type {\n",
       "        vertical-align: middle;\n",
       "    }\n",
       "\n",
       "    .dataframe tbody tr th {\n",
       "        vertical-align: top;\n",
       "    }\n",
       "\n",
       "    .dataframe thead th {\n",
       "        text-align: right;\n",
       "    }\n",
       "</style>\n",
       "<table border=\"1\" class=\"dataframe\">\n",
       "  <thead>\n",
       "    <tr style=\"text-align: right;\">\n",
       "      <th></th>\n",
       "      <th>cursive_script_name</th>\n",
       "      <th>num</th>\n",
       "    </tr>\n",
       "  </thead>\n",
       "  <tbody>\n",
       "    <tr>\n",
       "      <th>0</th>\n",
       "      <td>Ae_salang</td>\n",
       "      <td>99</td>\n",
       "    </tr>\n",
       "    <tr>\n",
       "      <th>1</th>\n",
       "      <td>Ae_seulpeul</td>\n",
       "      <td>65</td>\n",
       "    </tr>\n",
       "    <tr>\n",
       "      <th>2</th>\n",
       "      <td>Ag_aghal</td>\n",
       "      <td>114</td>\n",
       "    </tr>\n",
       "    <tr>\n",
       "      <th>3</th>\n",
       "      <td>An_pyeonan</td>\n",
       "      <td>124</td>\n",
       "    </tr>\n",
       "    <tr>\n",
       "      <th>4</th>\n",
       "      <td>A_ai</td>\n",
       "      <td>65</td>\n",
       "    </tr>\n",
       "    <tr>\n",
       "      <th>...</th>\n",
       "      <td>...</td>\n",
       "      <td>...</td>\n",
       "    </tr>\n",
       "    <tr>\n",
       "      <th>171</th>\n",
       "      <td>Gu_ahop</td>\n",
       "      <td>91</td>\n",
       "    </tr>\n",
       "    <tr>\n",
       "      <th>172</th>\n",
       "      <td>Gu_duryeowohal</td>\n",
       "      <td>33</td>\n",
       "    </tr>\n",
       "    <tr>\n",
       "      <th>173</th>\n",
       "      <td>Gu_geulgwi</td>\n",
       "      <td>5</td>\n",
       "    </tr>\n",
       "    <tr>\n",
       "      <th>174</th>\n",
       "      <td>Gu_guhal</td>\n",
       "      <td>52</td>\n",
       "    </tr>\n",
       "    <tr>\n",
       "      <th>175</th>\n",
       "      <td>Gu_ip</td>\n",
       "      <td>74</td>\n",
       "    </tr>\n",
       "  </tbody>\n",
       "</table>\n",
       "<p>176 rows × 2 columns</p>\n",
       "</div>"
      ],
      "text/plain": [
       "    cursive_script_name  num\n",
       "0             Ae_salang   99\n",
       "1           Ae_seulpeul   65\n",
       "2              Ag_aghal  114\n",
       "3            An_pyeonan  124\n",
       "4                  A_ai   65\n",
       "..                  ...  ...\n",
       "171             Gu_ahop   91\n",
       "172      Gu_duryeowohal   33\n",
       "173          Gu_geulgwi    5\n",
       "174            Gu_guhal   52\n",
       "175               Gu_ip   74\n",
       "\n",
       "[176 rows x 2 columns]"
      ]
     },
     "execution_count": 82,
     "metadata": {},
     "output_type": "execute_result"
    }
   ],
   "source": [
    "# distribute as dataframe and save dataframe\n",
    "\n",
    "df = pd.DataFrame(list(zip(cursive_script, num_data)), \n",
    "                  columns = ['cursive_script_name', \"num\"])\n",
    "\n",
    "df.to_csv(\"./distribution_cursive_script.csv\", index=False)\n",
    "df"
   ]
  },
  {
   "cell_type": "code",
   "execution_count": null,
   "metadata": {},
   "outputs": [],
   "source": []
  }
 ],
 "metadata": {
  "kernelspec": {
   "display_name": "Python 3",
   "language": "python",
   "name": "python3"
  },
  "language_info": {
   "codemirror_mode": {
    "name": "ipython",
    "version": 3
   },
   "file_extension": ".py",
   "mimetype": "text/x-python",
   "name": "python",
   "nbconvert_exporter": "python",
   "pygments_lexer": "ipython3",
   "version": "3.8.5"
  }
 },
 "nbformat": 4,
 "nbformat_minor": 4
}
